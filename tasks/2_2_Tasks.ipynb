{
  "cells": [
    {
      "cell_type": "markdown",
      "metadata": {
        "id": "K3F02BN6QWap"
      },
      "source": [
        "# Ноутбук для решения задач урока 2.2 - Pandas забудь про циклы!"
      ]
    },
    {
      "cell_type": "code",
      "execution_count": 1,
      "metadata": {
        "id": "kzNoQQ4Xz2Jd"
      },
      "outputs": [],
      "source": [
        "import pandas as pd"
      ]
    },
    {
      "cell_type": "markdown",
      "metadata": {
        "id": "-bPlFIUTRMiH"
      },
      "source": [
        "## Степы 4️⃣ и 7️⃣"
      ]
    },
    {
      "cell_type": "code",
      "execution_count": 2,
      "metadata": {
        "id": "nZJbCtBf8SK4"
      },
      "outputs": [],
      "source": [
        "# для тестирования шагов 4,7\n",
        "path = 'https://raw.githubusercontent.com/a-milenkin/Competitive_Data_Science/main/data/driver_info.csv'\n",
        "driver_info = pd.read_csv(path)"
      ]
    },
    {
      "cell_type": "code",
      "execution_count": 8,
      "metadata": {
        "id": "amRR61vXRJn1",
        "outputId": "e5f8d81c-52d1-4983-e61a-4eefb8dd179b",
        "colab": {
          "base_uri": "https://localhost:8080/",
          "height": 300
        }
      },
      "outputs": [
        {
          "output_type": "execute_result",
          "data": {
            "text/plain": [
              "            age  user_rating  user_rides  user_time_accident      sex\n",
              "count  15153.00     15153.00    15153.00            14182.00  15153.0\n",
              "mean      33.58         8.11      871.02               10.13      0.5\n",
              "std        9.92         0.67      573.51                8.87      0.5\n",
              "min       18.00         5.80        0.00                0.00      0.0\n",
              "25%       25.00         7.70      421.00                4.00      0.0\n",
              "50%       33.00         8.10      876.00                9.00      0.0\n",
              "75%       41.00         8.60     1145.00               14.00      1.0\n",
              "max       63.00        10.00     3316.00               86.00      1.0"
            ],
            "text/html": [
              "\n",
              "  <div id=\"df-3fcc745f-0540-45c5-bb3a-df015f94ecfd\" class=\"colab-df-container\">\n",
              "    <div>\n",
              "<style scoped>\n",
              "    .dataframe tbody tr th:only-of-type {\n",
              "        vertical-align: middle;\n",
              "    }\n",
              "\n",
              "    .dataframe tbody tr th {\n",
              "        vertical-align: top;\n",
              "    }\n",
              "\n",
              "    .dataframe thead th {\n",
              "        text-align: right;\n",
              "    }\n",
              "</style>\n",
              "<table border=\"1\" class=\"dataframe\">\n",
              "  <thead>\n",
              "    <tr style=\"text-align: right;\">\n",
              "      <th></th>\n",
              "      <th>age</th>\n",
              "      <th>user_rating</th>\n",
              "      <th>user_rides</th>\n",
              "      <th>user_time_accident</th>\n",
              "      <th>sex</th>\n",
              "    </tr>\n",
              "  </thead>\n",
              "  <tbody>\n",
              "    <tr>\n",
              "      <th>count</th>\n",
              "      <td>15153.00</td>\n",
              "      <td>15153.00</td>\n",
              "      <td>15153.00</td>\n",
              "      <td>14182.00</td>\n",
              "      <td>15153.0</td>\n",
              "    </tr>\n",
              "    <tr>\n",
              "      <th>mean</th>\n",
              "      <td>33.58</td>\n",
              "      <td>8.11</td>\n",
              "      <td>871.02</td>\n",
              "      <td>10.13</td>\n",
              "      <td>0.5</td>\n",
              "    </tr>\n",
              "    <tr>\n",
              "      <th>std</th>\n",
              "      <td>9.92</td>\n",
              "      <td>0.67</td>\n",
              "      <td>573.51</td>\n",
              "      <td>8.87</td>\n",
              "      <td>0.5</td>\n",
              "    </tr>\n",
              "    <tr>\n",
              "      <th>min</th>\n",
              "      <td>18.00</td>\n",
              "      <td>5.80</td>\n",
              "      <td>0.00</td>\n",
              "      <td>0.00</td>\n",
              "      <td>0.0</td>\n",
              "    </tr>\n",
              "    <tr>\n",
              "      <th>25%</th>\n",
              "      <td>25.00</td>\n",
              "      <td>7.70</td>\n",
              "      <td>421.00</td>\n",
              "      <td>4.00</td>\n",
              "      <td>0.0</td>\n",
              "    </tr>\n",
              "    <tr>\n",
              "      <th>50%</th>\n",
              "      <td>33.00</td>\n",
              "      <td>8.10</td>\n",
              "      <td>876.00</td>\n",
              "      <td>9.00</td>\n",
              "      <td>0.0</td>\n",
              "    </tr>\n",
              "    <tr>\n",
              "      <th>75%</th>\n",
              "      <td>41.00</td>\n",
              "      <td>8.60</td>\n",
              "      <td>1145.00</td>\n",
              "      <td>14.00</td>\n",
              "      <td>1.0</td>\n",
              "    </tr>\n",
              "    <tr>\n",
              "      <th>max</th>\n",
              "      <td>63.00</td>\n",
              "      <td>10.00</td>\n",
              "      <td>3316.00</td>\n",
              "      <td>86.00</td>\n",
              "      <td>1.0</td>\n",
              "    </tr>\n",
              "  </tbody>\n",
              "</table>\n",
              "</div>\n",
              "    <div class=\"colab-df-buttons\">\n",
              "\n",
              "  <div class=\"colab-df-container\">\n",
              "    <button class=\"colab-df-convert\" onclick=\"convertToInteractive('df-3fcc745f-0540-45c5-bb3a-df015f94ecfd')\"\n",
              "            title=\"Convert this dataframe to an interactive table.\"\n",
              "            style=\"display:none;\">\n",
              "\n",
              "  <svg xmlns=\"http://www.w3.org/2000/svg\" height=\"24px\" viewBox=\"0 -960 960 960\">\n",
              "    <path d=\"M120-120v-720h720v720H120Zm60-500h600v-160H180v160Zm220 220h160v-160H400v160Zm0 220h160v-160H400v160ZM180-400h160v-160H180v160Zm440 0h160v-160H620v160ZM180-180h160v-160H180v160Zm440 0h160v-160H620v160Z\"/>\n",
              "  </svg>\n",
              "    </button>\n",
              "\n",
              "  <style>\n",
              "    .colab-df-container {\n",
              "      display:flex;\n",
              "      gap: 12px;\n",
              "    }\n",
              "\n",
              "    .colab-df-convert {\n",
              "      background-color: #E8F0FE;\n",
              "      border: none;\n",
              "      border-radius: 50%;\n",
              "      cursor: pointer;\n",
              "      display: none;\n",
              "      fill: #1967D2;\n",
              "      height: 32px;\n",
              "      padding: 0 0 0 0;\n",
              "      width: 32px;\n",
              "    }\n",
              "\n",
              "    .colab-df-convert:hover {\n",
              "      background-color: #E2EBFA;\n",
              "      box-shadow: 0px 1px 2px rgba(60, 64, 67, 0.3), 0px 1px 3px 1px rgba(60, 64, 67, 0.15);\n",
              "      fill: #174EA6;\n",
              "    }\n",
              "\n",
              "    .colab-df-buttons div {\n",
              "      margin-bottom: 4px;\n",
              "    }\n",
              "\n",
              "    [theme=dark] .colab-df-convert {\n",
              "      background-color: #3B4455;\n",
              "      fill: #D2E3FC;\n",
              "    }\n",
              "\n",
              "    [theme=dark] .colab-df-convert:hover {\n",
              "      background-color: #434B5C;\n",
              "      box-shadow: 0px 1px 3px 1px rgba(0, 0, 0, 0.15);\n",
              "      filter: drop-shadow(0px 1px 2px rgba(0, 0, 0, 0.3));\n",
              "      fill: #FFFFFF;\n",
              "    }\n",
              "  </style>\n",
              "\n",
              "    <script>\n",
              "      const buttonEl =\n",
              "        document.querySelector('#df-3fcc745f-0540-45c5-bb3a-df015f94ecfd button.colab-df-convert');\n",
              "      buttonEl.style.display =\n",
              "        google.colab.kernel.accessAllowed ? 'block' : 'none';\n",
              "\n",
              "      async function convertToInteractive(key) {\n",
              "        const element = document.querySelector('#df-3fcc745f-0540-45c5-bb3a-df015f94ecfd');\n",
              "        const dataTable =\n",
              "          await google.colab.kernel.invokeFunction('convertToInteractive',\n",
              "                                                    [key], {});\n",
              "        if (!dataTable) return;\n",
              "\n",
              "        const docLinkHtml = 'Like what you see? Visit the ' +\n",
              "          '<a target=\"_blank\" href=https://colab.research.google.com/notebooks/data_table.ipynb>data table notebook</a>'\n",
              "          + ' to learn more about interactive tables.';\n",
              "        element.innerHTML = '';\n",
              "        dataTable['output_type'] = 'display_data';\n",
              "        await google.colab.output.renderOutput(dataTable, element);\n",
              "        const docLink = document.createElement('div');\n",
              "        docLink.innerHTML = docLinkHtml;\n",
              "        element.appendChild(docLink);\n",
              "      }\n",
              "    </script>\n",
              "  </div>\n",
              "\n",
              "\n",
              "    <div id=\"df-58d193d6-638b-4a4d-b173-07321ea5d511\">\n",
              "      <button class=\"colab-df-quickchart\" onclick=\"quickchart('df-58d193d6-638b-4a4d-b173-07321ea5d511')\"\n",
              "                title=\"Suggest charts\"\n",
              "                style=\"display:none;\">\n",
              "\n",
              "<svg xmlns=\"http://www.w3.org/2000/svg\" height=\"24px\"viewBox=\"0 0 24 24\"\n",
              "     width=\"24px\">\n",
              "    <g>\n",
              "        <path d=\"M19 3H5c-1.1 0-2 .9-2 2v14c0 1.1.9 2 2 2h14c1.1 0 2-.9 2-2V5c0-1.1-.9-2-2-2zM9 17H7v-7h2v7zm4 0h-2V7h2v10zm4 0h-2v-4h2v4z\"/>\n",
              "    </g>\n",
              "</svg>\n",
              "      </button>\n",
              "\n",
              "<style>\n",
              "  .colab-df-quickchart {\n",
              "      --bg-color: #E8F0FE;\n",
              "      --fill-color: #1967D2;\n",
              "      --hover-bg-color: #E2EBFA;\n",
              "      --hover-fill-color: #174EA6;\n",
              "      --disabled-fill-color: #AAA;\n",
              "      --disabled-bg-color: #DDD;\n",
              "  }\n",
              "\n",
              "  [theme=dark] .colab-df-quickchart {\n",
              "      --bg-color: #3B4455;\n",
              "      --fill-color: #D2E3FC;\n",
              "      --hover-bg-color: #434B5C;\n",
              "      --hover-fill-color: #FFFFFF;\n",
              "      --disabled-bg-color: #3B4455;\n",
              "      --disabled-fill-color: #666;\n",
              "  }\n",
              "\n",
              "  .colab-df-quickchart {\n",
              "    background-color: var(--bg-color);\n",
              "    border: none;\n",
              "    border-radius: 50%;\n",
              "    cursor: pointer;\n",
              "    display: none;\n",
              "    fill: var(--fill-color);\n",
              "    height: 32px;\n",
              "    padding: 0;\n",
              "    width: 32px;\n",
              "  }\n",
              "\n",
              "  .colab-df-quickchart:hover {\n",
              "    background-color: var(--hover-bg-color);\n",
              "    box-shadow: 0 1px 2px rgba(60, 64, 67, 0.3), 0 1px 3px 1px rgba(60, 64, 67, 0.15);\n",
              "    fill: var(--button-hover-fill-color);\n",
              "  }\n",
              "\n",
              "  .colab-df-quickchart-complete:disabled,\n",
              "  .colab-df-quickchart-complete:disabled:hover {\n",
              "    background-color: var(--disabled-bg-color);\n",
              "    fill: var(--disabled-fill-color);\n",
              "    box-shadow: none;\n",
              "  }\n",
              "\n",
              "  .colab-df-spinner {\n",
              "    border: 2px solid var(--fill-color);\n",
              "    border-color: transparent;\n",
              "    border-bottom-color: var(--fill-color);\n",
              "    animation:\n",
              "      spin 1s steps(1) infinite;\n",
              "  }\n",
              "\n",
              "  @keyframes spin {\n",
              "    0% {\n",
              "      border-color: transparent;\n",
              "      border-bottom-color: var(--fill-color);\n",
              "      border-left-color: var(--fill-color);\n",
              "    }\n",
              "    20% {\n",
              "      border-color: transparent;\n",
              "      border-left-color: var(--fill-color);\n",
              "      border-top-color: var(--fill-color);\n",
              "    }\n",
              "    30% {\n",
              "      border-color: transparent;\n",
              "      border-left-color: var(--fill-color);\n",
              "      border-top-color: var(--fill-color);\n",
              "      border-right-color: var(--fill-color);\n",
              "    }\n",
              "    40% {\n",
              "      border-color: transparent;\n",
              "      border-right-color: var(--fill-color);\n",
              "      border-top-color: var(--fill-color);\n",
              "    }\n",
              "    60% {\n",
              "      border-color: transparent;\n",
              "      border-right-color: var(--fill-color);\n",
              "    }\n",
              "    80% {\n",
              "      border-color: transparent;\n",
              "      border-right-color: var(--fill-color);\n",
              "      border-bottom-color: var(--fill-color);\n",
              "    }\n",
              "    90% {\n",
              "      border-color: transparent;\n",
              "      border-bottom-color: var(--fill-color);\n",
              "    }\n",
              "  }\n",
              "</style>\n",
              "\n",
              "      <script>\n",
              "        async function quickchart(key) {\n",
              "          const quickchartButtonEl =\n",
              "            document.querySelector('#' + key + ' button');\n",
              "          quickchartButtonEl.disabled = true;  // To prevent multiple clicks.\n",
              "          quickchartButtonEl.classList.add('colab-df-spinner');\n",
              "          try {\n",
              "            const charts = await google.colab.kernel.invokeFunction(\n",
              "                'suggestCharts', [key], {});\n",
              "          } catch (error) {\n",
              "            console.error('Error during call to suggestCharts:', error);\n",
              "          }\n",
              "          quickchartButtonEl.classList.remove('colab-df-spinner');\n",
              "          quickchartButtonEl.classList.add('colab-df-quickchart-complete');\n",
              "        }\n",
              "        (() => {\n",
              "          let quickchartButtonEl =\n",
              "            document.querySelector('#df-58d193d6-638b-4a4d-b173-07321ea5d511 button');\n",
              "          quickchartButtonEl.style.display =\n",
              "            google.colab.kernel.accessAllowed ? 'block' : 'none';\n",
              "        })();\n",
              "      </script>\n",
              "    </div>\n",
              "\n",
              "    </div>\n",
              "  </div>\n"
            ],
            "application/vnd.google.colaboratory.intrinsic+json": {
              "type": "dataframe",
              "summary": "{\n  \"name\": \"driver_info\",\n  \"rows\": 8,\n  \"fields\": [\n    {\n      \"column\": \"age\",\n      \"properties\": {\n        \"dtype\": \"number\",\n        \"std\": 5346.129828357145,\n        \"min\": 9.92,\n        \"max\": 15153.0,\n        \"num_unique_values\": 8,\n        \"samples\": [\n          33.58,\n          33.0,\n          15153.0\n        ],\n        \"semantic_type\": \"\",\n        \"description\": \"\"\n      }\n    },\n    {\n      \"column\": \"user_rating\",\n      \"properties\": {\n        \"dtype\": \"number\",\n        \"std\": 5354.921411067313,\n        \"min\": 0.67,\n        \"max\": 15153.0,\n        \"num_unique_values\": 8,\n        \"samples\": [\n          8.11,\n          8.1,\n          15153.0\n        ],\n        \"semantic_type\": \"\",\n        \"description\": \"\"\n      }\n    },\n    {\n      \"column\": \"user_rides\",\n      \"properties\": {\n        \"dtype\": \"number\",\n        \"std\": 5091.747964850122,\n        \"min\": 0.0,\n        \"max\": 15153.0,\n        \"num_unique_values\": 8,\n        \"samples\": [\n          871.02,\n          876.0,\n          15153.0\n        ],\n        \"semantic_type\": \"\",\n        \"description\": \"\"\n      }\n    },\n    {\n      \"column\": \"user_time_accident\",\n      \"properties\": {\n        \"dtype\": \"number\",\n        \"std\": 5007.503937574945,\n        \"min\": 0.0,\n        \"max\": 14182.0,\n        \"num_unique_values\": 8,\n        \"samples\": [\n          10.13,\n          9.0,\n          14182.0\n        ],\n        \"semantic_type\": \"\",\n        \"description\": \"\"\n      }\n    },\n    {\n      \"column\": \"sex\",\n      \"properties\": {\n        \"dtype\": \"number\",\n        \"std\": 5357.243020968368,\n        \"min\": 0.0,\n        \"max\": 15153.0,\n        \"num_unique_values\": 4,\n        \"samples\": [\n          0.5,\n          1.0,\n          15153.0\n        ],\n        \"semantic_type\": \"\",\n        \"description\": \"\"\n      }\n    }\n  ]\n}"
            }
          },
          "metadata": {},
          "execution_count": 8
        }
      ],
      "source": [
        "# YOUR CODE HERE\n",
        "driver_info.describe().round(2)"
      ]
    },
    {
      "cell_type": "code",
      "source": [
        "driver_info[['sex']].mode()"
      ],
      "metadata": {
        "id": "EbOQwbEJSlCQ",
        "outputId": "002fd5c2-877f-49ba-b5dc-af1bf8b24c89",
        "colab": {
          "base_uri": "https://localhost:8080/",
          "height": 81
        }
      },
      "execution_count": 11,
      "outputs": [
        {
          "output_type": "execute_result",
          "data": {
            "text/plain": [
              "   sex\n",
              "0    0"
            ],
            "text/html": [
              "\n",
              "  <div id=\"df-50b8a8d9-f9f5-431d-b391-cfb2463c8b5f\" class=\"colab-df-container\">\n",
              "    <div>\n",
              "<style scoped>\n",
              "    .dataframe tbody tr th:only-of-type {\n",
              "        vertical-align: middle;\n",
              "    }\n",
              "\n",
              "    .dataframe tbody tr th {\n",
              "        vertical-align: top;\n",
              "    }\n",
              "\n",
              "    .dataframe thead th {\n",
              "        text-align: right;\n",
              "    }\n",
              "</style>\n",
              "<table border=\"1\" class=\"dataframe\">\n",
              "  <thead>\n",
              "    <tr style=\"text-align: right;\">\n",
              "      <th></th>\n",
              "      <th>sex</th>\n",
              "    </tr>\n",
              "  </thead>\n",
              "  <tbody>\n",
              "    <tr>\n",
              "      <th>0</th>\n",
              "      <td>0</td>\n",
              "    </tr>\n",
              "  </tbody>\n",
              "</table>\n",
              "</div>\n",
              "    <div class=\"colab-df-buttons\">\n",
              "\n",
              "  <div class=\"colab-df-container\">\n",
              "    <button class=\"colab-df-convert\" onclick=\"convertToInteractive('df-50b8a8d9-f9f5-431d-b391-cfb2463c8b5f')\"\n",
              "            title=\"Convert this dataframe to an interactive table.\"\n",
              "            style=\"display:none;\">\n",
              "\n",
              "  <svg xmlns=\"http://www.w3.org/2000/svg\" height=\"24px\" viewBox=\"0 -960 960 960\">\n",
              "    <path d=\"M120-120v-720h720v720H120Zm60-500h600v-160H180v160Zm220 220h160v-160H400v160Zm0 220h160v-160H400v160ZM180-400h160v-160H180v160Zm440 0h160v-160H620v160ZM180-180h160v-160H180v160Zm440 0h160v-160H620v160Z\"/>\n",
              "  </svg>\n",
              "    </button>\n",
              "\n",
              "  <style>\n",
              "    .colab-df-container {\n",
              "      display:flex;\n",
              "      gap: 12px;\n",
              "    }\n",
              "\n",
              "    .colab-df-convert {\n",
              "      background-color: #E8F0FE;\n",
              "      border: none;\n",
              "      border-radius: 50%;\n",
              "      cursor: pointer;\n",
              "      display: none;\n",
              "      fill: #1967D2;\n",
              "      height: 32px;\n",
              "      padding: 0 0 0 0;\n",
              "      width: 32px;\n",
              "    }\n",
              "\n",
              "    .colab-df-convert:hover {\n",
              "      background-color: #E2EBFA;\n",
              "      box-shadow: 0px 1px 2px rgba(60, 64, 67, 0.3), 0px 1px 3px 1px rgba(60, 64, 67, 0.15);\n",
              "      fill: #174EA6;\n",
              "    }\n",
              "\n",
              "    .colab-df-buttons div {\n",
              "      margin-bottom: 4px;\n",
              "    }\n",
              "\n",
              "    [theme=dark] .colab-df-convert {\n",
              "      background-color: #3B4455;\n",
              "      fill: #D2E3FC;\n",
              "    }\n",
              "\n",
              "    [theme=dark] .colab-df-convert:hover {\n",
              "      background-color: #434B5C;\n",
              "      box-shadow: 0px 1px 3px 1px rgba(0, 0, 0, 0.15);\n",
              "      filter: drop-shadow(0px 1px 2px rgba(0, 0, 0, 0.3));\n",
              "      fill: #FFFFFF;\n",
              "    }\n",
              "  </style>\n",
              "\n",
              "    <script>\n",
              "      const buttonEl =\n",
              "        document.querySelector('#df-50b8a8d9-f9f5-431d-b391-cfb2463c8b5f button.colab-df-convert');\n",
              "      buttonEl.style.display =\n",
              "        google.colab.kernel.accessAllowed ? 'block' : 'none';\n",
              "\n",
              "      async function convertToInteractive(key) {\n",
              "        const element = document.querySelector('#df-50b8a8d9-f9f5-431d-b391-cfb2463c8b5f');\n",
              "        const dataTable =\n",
              "          await google.colab.kernel.invokeFunction('convertToInteractive',\n",
              "                                                    [key], {});\n",
              "        if (!dataTable) return;\n",
              "\n",
              "        const docLinkHtml = 'Like what you see? Visit the ' +\n",
              "          '<a target=\"_blank\" href=https://colab.research.google.com/notebooks/data_table.ipynb>data table notebook</a>'\n",
              "          + ' to learn more about interactive tables.';\n",
              "        element.innerHTML = '';\n",
              "        dataTable['output_type'] = 'display_data';\n",
              "        await google.colab.output.renderOutput(dataTable, element);\n",
              "        const docLink = document.createElement('div');\n",
              "        docLink.innerHTML = docLinkHtml;\n",
              "        element.appendChild(docLink);\n",
              "      }\n",
              "    </script>\n",
              "  </div>\n",
              "\n",
              "\n",
              "    </div>\n",
              "  </div>\n"
            ],
            "application/vnd.google.colaboratory.intrinsic+json": {
              "type": "dataframe",
              "summary": "{\n  \"name\": \"driver_info[['sex']]\",\n  \"rows\": 1,\n  \"fields\": [\n    {\n      \"column\": \"sex\",\n      \"properties\": {\n        \"dtype\": \"number\",\n        \"std\": null,\n        \"min\": 0,\n        \"max\": 0,\n        \"num_unique_values\": 1,\n        \"samples\": [\n          0\n        ],\n        \"semantic_type\": \"\",\n        \"description\": \"\"\n      }\n    }\n  ]\n}"
            }
          },
          "metadata": {},
          "execution_count": 11
        }
      ]
    },
    {
      "cell_type": "markdown",
      "metadata": {
        "id": "Tu5iN6ptRfPk"
      },
      "source": [
        "## Степ 6️⃣: 🧠Сложная фильтрация\n",
        "\n",
        "Задача:\n",
        "- Соединить две таблицы вместе.\n",
        "- Оставить только строки, где `rating` > 4 и `stop_times` равен 2, 3 или 5.\n",
        "- В получившемся датафрейме оставить только те строки, где `car_id` не входит в список `car_black_list` и `user_id` входит в список `user_white_list`.\n",
        "- Оставить только строки, где `index` чётное число (датафрейм проиндексирован целыми числами).\n",
        "- Итоговый объект `pd.DataFrame()` поместить в переменную `result`."
      ]
    },
    {
      "cell_type": "code",
      "execution_count": 12,
      "metadata": {
        "id": "kVFUsK6kz6za"
      },
      "outputs": [],
      "source": [
        "df1 = pd.read_csv('https://stepik.org/media/attachments/lesson/681964/2.2.6_df1.csv', index_col=0)\n",
        "df2 = pd.read_csv('https://stepik.org/media/attachments/lesson/681964/2.2.6_df2.csv', index_col=0)\n",
        "\n",
        "# Учтите, что user_white_list и car_black_list в тестовой системе будут иметь другую длину и другие значения\n",
        "user_white_list = ['g10995906g', 'H90312511Q', 'C27138482L', 'H22518078t', 'n17438464n', 'F10525768e', 's15596151o', 'i18954748S', 'E84048392U', 'E69893354s']\n",
        "car_black_list = ['l-4285389z', 'n79502261g', 'N-1839822D']"
      ]
    },
    {
      "cell_type": "code",
      "execution_count": 13,
      "metadata": {
        "id": "MClX8UtBRvdQ",
        "outputId": "a7a4fd31-18c8-4e3c-a6a7-d4e1b97ca284",
        "colab": {
          "base_uri": "https://localhost:8080/",
          "height": 106
        }
      },
      "outputs": [
        {
          "output_type": "error",
          "ename": "SyntaxError",
          "evalue": "invalid syntax (ipython-input-13-1672206527.py, line 3)",
          "traceback": [
            "\u001b[0;36m  File \u001b[0;32m\"/tmp/ipython-input-13-1672206527.py\"\u001b[0;36m, line \u001b[0;32m3\u001b[0m\n\u001b[0;31m    mask =\u001b[0m\n\u001b[0m           ^\u001b[0m\n\u001b[0;31mSyntaxError\u001b[0m\u001b[0;31m:\u001b[0m invalid syntax\n"
          ]
        }
      ],
      "source": [
        "# YOUR CODE HERE\n",
        "df = pd.concat([df1, df1])\n",
        "mask ="
      ]
    },
    {
      "cell_type": "code",
      "execution_count": null,
      "metadata": {
        "id": "6-6F7JVpRvdT"
      },
      "outputs": [],
      "source": [
        "# В ans содержится правильный ответ. Перед отправкой своего решения, сравнитесь с ним.\n",
        "ans = pd.read_csv('https://stepik.org/media/attachments/lesson/681964/2_2_6_ans.csv', index_col=0)"
      ]
    },
    {
      "cell_type": "markdown",
      "metadata": {
        "id": "BXolCrJDRnCG"
      },
      "source": [
        "## Степ 8️⃣: 🧠 Изменение и фильтрация `DataFrame` в Pandas\n",
        "Задача:\n",
        "\n",
        "- Создайте столбец `tripple_accident` из столбца `user_time_accident`,  умноженного на 3.\n",
        "- Создайте столбец `rides_on_rating` делением столбца `user_rides` на `user_rating`.\n",
        "- Оставьте только те строки, у которых `user_time_accident` больше 25 (используем фильтрацию).\n",
        "- Оставьте только те строки, у которых `age` выше среднего значения по полученной таблице в предыдущем пункте."
      ]
    },
    {
      "cell_type": "code",
      "execution_count": null,
      "metadata": {
        "id": "pEX_xfsx7IDY"
      },
      "outputs": [],
      "source": [
        "df = pd.read_csv('https://stepik.org/media/attachments/lesson/681964/2_2_8.csv')"
      ]
    },
    {
      "cell_type": "code",
      "execution_count": null,
      "metadata": {
        "id": "twzJ7Nv1Rvty"
      },
      "outputs": [],
      "source": [
        "# YOUR CODE HERE"
      ]
    },
    {
      "cell_type": "code",
      "execution_count": null,
      "metadata": {
        "id": "5RRnuCqwRvda"
      },
      "outputs": [],
      "source": [
        "# В ans содержится правильный ответ. Перед отправкой своего решения, сравнитесь с ним.\n",
        "ans = pd.read_csv('https://stepik.org/media/attachments/lesson/681964/2_2_8_ans.csv', index_col=0)"
      ]
    },
    {
      "cell_type": "markdown",
      "metadata": {
        "id": "Ftx1AobpR1cw"
      },
      "source": [
        "## Степ 🔟: 🧠 Задача на работу с индексами и столбцами\n",
        "Задача:\n",
        "\n",
        "- Добавьте новую строку (с индексом `new_index:(int / str)` и значениями `new_data: list`).\n",
        "- Удалите строки с индексами из списка `del_index_list: list`.\n",
        "- Увеличьте значение `destroy_degree` на 1 в строке с индексом равным `index`. Переменная `index` содержит индекс строки ИЛИ число (индекс).\n",
        "- Удалите столбец `fix_date`, т.к. не стоит сейчас думать о времени.\n",
        "- Создайте новый столбец `efficient`, который равен `destroy_degree` деленный на `work_duration`.\n",
        "- Возведите столбец `work_duration` в квадрат.\n",
        "- Переименуйте столбец `work_duration` в `work_duration_square`.\n",
        "- Удалите дубликаты по столбцу `car_id`."
      ]
    },
    {
      "cell_type": "code",
      "execution_count": null,
      "metadata": {
        "id": "Z9ilWKE58PQn"
      },
      "outputs": [],
      "source": [
        "df = pd.read_csv('https://stepik.org/media/attachments/lesson/681964/2_2_10.csv')\n",
        "\n",
        "# Учтите, что new_index, new_data, del_index_list, index в тестовой системе будут иметь другие значения\n",
        "new_index = 50\n",
        "new_data = ['new_car_id', 'new_worker_id', '2019-11-11 4:44','refuel_check', 3.5, 10]\n",
        "del_index_list = [41, 18, 33, 7, 46]\n",
        "index = 22"
      ]
    },
    {
      "cell_type": "code",
      "execution_count": null,
      "metadata": {
        "id": "0rL5d9W3SAcp"
      },
      "outputs": [],
      "source": [
        "# YOUR CODE HERE"
      ]
    },
    {
      "cell_type": "code",
      "execution_count": null,
      "metadata": {
        "id": "gxtYql-ARvdd"
      },
      "outputs": [],
      "source": [
        "# В ans содержится правильный ответ. Перед отправкой своего решения, сравнитесь с ним.\n",
        "ans = pd.read_csv('https://stepik.org/media/attachments/lesson/681964/2_2_10_ans.csv')"
      ]
    },
    {
      "cell_type": "markdown",
      "metadata": {
        "id": "pMPOZb22SBd0"
      },
      "source": [
        "## Степ 1️⃣1️⃣: 🧠 Сортировка и фильтрация\n",
        "Задача:\n",
        "\n",
        "- Отсортируйте строки сначала по убывания 1-го столбца из списка `sort_by_list`, затем по возрастанию 2-го столбца из списка.\n",
        "- Удалите столбцы из списка `cols2drop` с учетом того, что некоторых столбцов может не быть в df.\n",
        "- Сделайте порядок столбцов в `df` в соответствии с переменной `columns_order_list: List[str]`.\n",
        "- Удалите строки, в которых `car_rating` < `critical_car_rating`.\n",
        "- Удалите строки, где число поездок `riders` больше `10_000`, или тип машины `car_type` относится либо к `standart`, либо `economy`."
      ]
    },
    {
      "cell_type": "code",
      "execution_count": null,
      "metadata": {
        "ExecuteTime": {
          "end_time": "2023-08-17T09:25:29.384891122Z",
          "start_time": "2023-08-17T09:25:28.926638694Z"
        },
        "id": "9yRlbfRjCIOp"
      },
      "outputs": [],
      "source": [
        "df = pd.read_csv('https://stepik.org/media/attachments/lesson/681964/2.2.11.csv')\n",
        "\n",
        "# Учтите, что sort_by_list, cols2drop, columns_order_list в тестовой системе будут иметь другие значения.\n",
        "sort_by_list = ['car_rating', 'riders']\n",
        "cols2drop = ['random_name_1', 'target_reg', 'target_class', 'random_name_2']\n",
        "columns_order_list = ['model', 'car_type', 'car_id', 'car_rating', 'year_to_start', 'year_to_work', 'riders', 'fuel_type']\n",
        "critical_car_rating = 2"
      ]
    },
    {
      "cell_type": "code",
      "execution_count": null,
      "metadata": {
        "id": "jzLQRnA2SMpV"
      },
      "outputs": [],
      "source": [
        "# YOUR CODE HERE"
      ]
    },
    {
      "cell_type": "code",
      "execution_count": null,
      "metadata": {
        "ExecuteTime": {
          "end_time": "2023-08-17T09:25:27.132226695Z",
          "start_time": "2023-08-17T09:25:26.816815165Z"
        },
        "id": "K5BynHmVRvdg"
      },
      "outputs": [],
      "source": [
        "# В ans содержится правильный ответ. Перед отправкой своего решения, сравнитесь с ним.\n",
        "ans = pd.read_csv('https://stepik.org/media/attachments/lesson/681964/2_2_11_ans.csv', index_col=0)"
      ]
    },
    {
      "cell_type": "markdown",
      "metadata": {
        "id": "AQ7fDyijSFXk"
      },
      "source": [
        "## Степ 1️⃣2️⃣: 🧠 Задача на функции\n",
        "Задача\n",
        "- Запишите в переменную `mean_rating` среднее по столбцу `car_rating`.\n",
        "- Увеличьте на один все значения в столбцах `car_rating` и `year_to_work`.\n",
        "- Отфильтруйте любым из удобных способов машины с рейтингом выше среднего от столбца `car_rating` (используйте переменную `mean_rating`).\n",
        "- Преобразуйте столбец `year_to_work` следующим образом: если значение меньше `2017`, то прибавьте `2`, иначе разделите значение нацело на `5`.\n",
        "- Переименуйте столбец `year_to_start` в `new_year_to_start` и удалите столбец `fuel_type`.\n",
        "- Ко всем значениям из столбца `car_type` добавьте приставку `super_` (`standart` -> `super_standart`).\n",
        "- Решение запишите в переменную `result`."
      ]
    },
    {
      "cell_type": "code",
      "execution_count": null,
      "metadata": {
        "ExecuteTime": {
          "end_time": "2023-08-17T09:26:25.274699514Z",
          "start_time": "2023-08-17T09:26:24.897526121Z"
        },
        "id": "0RHgZYe9E_mL"
      },
      "outputs": [],
      "source": [
        "df = pd.read_csv('https://stepik.org/media/attachments/lesson/681964/2_2_12.csv')"
      ]
    },
    {
      "cell_type": "code",
      "execution_count": null,
      "metadata": {
        "id": "OGVgRii3I3Dg"
      },
      "outputs": [],
      "source": [
        "# YOUR CODE HERE"
      ]
    },
    {
      "cell_type": "code",
      "execution_count": null,
      "metadata": {
        "ExecuteTime": {
          "end_time": "2023-08-17T09:26:26.725456842Z",
          "start_time": "2023-08-17T09:26:26.359602016Z"
        },
        "id": "KKIdcZGcRvdi"
      },
      "outputs": [],
      "source": [
        "# В ans содержится правильный ответ. Перед отправкой своего решения, сравнитесь с ним.\n",
        "ans = pd.read_csv('https://stepik.org/media/attachments/lesson/681964/2_2_12_ans.csv')"
      ]
    },
    {
      "cell_type": "markdown",
      "metadata": {
        "id": "3ypUQ18PRvdi"
      },
      "source": [
        "## Степ 1️⃣3️⃣: 🧠 Работа с функциями\n",
        "Задача\n",
        "- Добавьте столбец `flag`, который равен `'good_line'`, если `rating > 5` and `speed_max < 100`. `'bad_line'`, если  `rating > 5` and `speed_max > 100`. `'undefined'` в остальных случаях.\n",
        "- Добавьте столбец `speed_check`, который принимает значения `'avg_more'`, если `distance/ride_duration > speed_avg`, иначе `'avg_less'`.\n",
        "- Удалите столбцы из списка `cols2drop`.\n",
        "- Удалите строки, в которых `car_id` имеет пустые значения (только NA удаляем).\n",
        "- Результат запишите в переменную `result`."
      ]
    },
    {
      "cell_type": "code",
      "execution_count": null,
      "metadata": {
        "ExecuteTime": {
          "end_time": "2023-08-17T09:26:55.130669620Z",
          "start_time": "2023-08-17T09:26:54.623471087Z"
        },
        "id": "ygjqvI3oRvdj"
      },
      "outputs": [],
      "source": [
        "df = pd.read_csv('https://stepik.org/media/attachments/lesson/681964/2_2_13.csv')\n",
        "\n",
        "# Учтите, что cols2drop в тестовой системе будет иметь другие значения.\n",
        "cols2drop = ['ride_cost', 'stop_times', 'user_ride_quality']"
      ]
    },
    {
      "cell_type": "code",
      "execution_count": null,
      "metadata": {
        "id": "mYbCwuw9Rvdj"
      },
      "outputs": [],
      "source": [
        "# YOUR CODE HERE"
      ]
    },
    {
      "cell_type": "code",
      "execution_count": null,
      "metadata": {
        "ExecuteTime": {
          "end_time": "2023-08-17T09:26:56.414141075Z",
          "start_time": "2023-08-17T09:26:56.105423314Z"
        },
        "id": "GvIXCDoMRvdk"
      },
      "outputs": [],
      "source": [
        "# В ans содержится правильный ответ. Перед отправкой своего решения, сравнитесь с ним.\n",
        "ans = pd.read_csv('https://stepik.org/media/attachments/lesson/681964/2_2_13_ans.csv', index_col=0)"
      ]
    },
    {
      "cell_type": "markdown",
      "metadata": {
        "id": "dyCIFQTaRvdl"
      },
      "source": [
        "## Степ 1️⃣4️⃣: 🧠 Заполнение и редактирование таблиц\n",
        "Задача\n",
        "- Посчитайте количество пропусков в каждой строке и запишите это в новый столбец `nans_num`.\n",
        "- Удалите строки, где количество пропусков больше `2`.\n",
        "- Удалите строки, где `age` имеет пропущенные значения.\n",
        "- Заполните пропущенные значения в столбце `user_time_accident` медианным значением.\n",
        "- Оставьте только столбцы `age`, `user_rides`, `user_time_accident`.\n",
        "- Решение запишите в переменную `result`."
      ]
    },
    {
      "cell_type": "code",
      "execution_count": null,
      "metadata": {
        "id": "LaT18keYRvdl"
      },
      "outputs": [],
      "source": [
        "df = pd.read_csv('https://stepik.org/media/attachments/lesson/681964/2_2_14.csv')"
      ]
    },
    {
      "cell_type": "code",
      "execution_count": null,
      "metadata": {
        "id": "RNgS5LULRvdl"
      },
      "outputs": [],
      "source": [
        "# В ans содержится правильный ответ. Перед отправкой своего решения, сравнитесь с ним.\n",
        "ans = pd.read_csv('https://stepik.org/media/attachments/lesson/681964/2_2_14_ans.csv', index_col=0)"
      ]
    }
  ],
  "metadata": {
    "colab": {
      "provenance": []
    },
    "kernelspec": {
      "display_name": "Python 3 (ipykernel)",
      "language": "python",
      "name": "python3"
    },
    "language_info": {
      "codemirror_mode": {
        "name": "ipython",
        "version": 3
      },
      "file_extension": ".py",
      "mimetype": "text/x-python",
      "name": "python",
      "nbconvert_exporter": "python",
      "pygments_lexer": "ipython3",
      "version": "3.11.4"
    }
  },
  "nbformat": 4,
  "nbformat_minor": 0
}